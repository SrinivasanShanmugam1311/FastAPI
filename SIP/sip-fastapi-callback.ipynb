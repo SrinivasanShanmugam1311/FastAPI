{
 "cells": [
  {
   "cell_type": "code",
   "execution_count": 2,
   "id": "beb4be5a",
   "metadata": {},
   "outputs": [
    {
     "name": "stdout",
     "output_type": "stream",
     "text": [
      "Status Code: 200\n",
      "Response JSON: {'monthly': 5000.0, 'rate': 12.0, 'years': 10.0, 'invested': 600000.0, 'future_value': 1161695.38, 'gain': 561695.38}\n"
     ]
    }
   ],
   "source": [
    "import requests\n",
    "\n",
    "url = \"http://127.0.0.1:8000/sip\"\n",
    "\n",
    "# POST\n",
    "response = requests.post(url, json={\"monthly\": 5000, \"rate\": 12, \"years\": 10})\n",
    "print(\"Status Code:\", response.status_code)\n",
    "print(\"Response JSON:\", response.json())"
   ]
  },
  {
   "cell_type": "code",
   "execution_count": null,
   "id": "f3c089d7",
   "metadata": {},
   "outputs": [],
   "source": []
  },
  {
   "cell_type": "code",
   "execution_count": 3,
   "id": "1d7d72d1",
   "metadata": {},
   "outputs": [
    {
     "name": "stdout",
     "output_type": "stream",
     "text": [
      "Status Code: 200\n",
      "Response JSON: {'monthly': 5000.0, 'rate': 12.0, 'years': 10.0, 'invested': 600000.0, 'future_value': 1161695.38, 'gain': 561695.38}\n"
     ]
    }
   ],
   "source": [
    "# GET\n",
    "params = {\"monthly\": 5000, \"rate\": 12, \"years\": 10}\n",
    "response = requests.get(url, params=params)\n",
    "print(\"Status Code:\", response.status_code)\n",
    "print(\"Response JSON:\", response.json())"
   ]
  },
  {
   "cell_type": "code",
   "execution_count": null,
   "id": "f7d1b5ff",
   "metadata": {},
   "outputs": [],
   "source": []
  }
 ],
 "metadata": {
  "kernelspec": {
   "display_name": "Python 3 (ipykernel)",
   "language": "python",
   "name": "python3"
  },
  "language_info": {
   "codemirror_mode": {
    "name": "ipython",
    "version": 3
   },
   "file_extension": ".py",
   "mimetype": "text/x-python",
   "name": "python",
   "nbconvert_exporter": "python",
   "pygments_lexer": "ipython3",
   "version": "3.11.5"
  }
 },
 "nbformat": 4,
 "nbformat_minor": 5
}
